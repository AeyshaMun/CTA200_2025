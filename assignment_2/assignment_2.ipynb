{
 "cells": [
  {
   "cell_type": "markdown",
   "id": "b74eb283",
   "metadata": {},
   "source": [
    "# PART 1"
   ]
  },
  {
   "cell_type": "markdown",
   "id": "d701f65a",
   "metadata": {},
   "source": [
    "Write a python function for the given f(x). Also, write a function for its derivation (you will have to work out df/dx yourself), you can call these functions f and df."
   ]
  },
  {
   "cell_type": "code",
   "execution_count": 2,
   "id": "0a9f98f2",
   "metadata": {},
   "outputs": [],
   "source": [
    "def f(x):\n",
    "    \"\"\" This function evaluates the following polynomial expression of x:\n",
    "    x ** 3 - x ** 2 - 1.\n",
    "    \n",
    "    Parameters\n",
    "    -------------\n",
    "    x: array-like\n",
    "       The given value of x.\n",
    "    \n",
    "    Returns\n",
    "    -------------\n",
    "    expr: array-like\n",
    "          The value x ** 3 - x ** 2 - 1.\n",
    "    \"\"\"\n",
    "    expr = x ** 3 - x ** 2 - 1\n",
    "    return expr\n",
    "\n",
    "def df(x):\n",
    "    \"\"\" This function evaluates the derivative of the following polynomial\n",
    "    expression of x: x ** 3 - x ** 2 - 1.\n",
    "    \n",
    "    Parameters\n",
    "    -------------\n",
    "    x: array-like\n",
    "       The given values of x.\n",
    "    \n",
    "    Returns\n",
    "    -------------\n",
    "    derivative: array-like\n",
    "                The value of the derivative of x ** 3 - x ** 2 - 1.\n",
    "    \"\"\"\n",
    "    derivative = 3 * x ** 2 - 2 * x\n",
    "    return derivative"
   ]
  },
  {
   "cell_type": "markdown",
   "id": "1f8f3aa9",
   "metadata": {},
   "source": [
    "# PART 2"
   ]
  },
  {
   "cell_type": "markdown",
   "id": "dcc19386",
   "metadata": {},
   "source": [
    "Write a function newton(f, df, x0, epsilon=1e-6, max_iter=30) which performs a Newton iteration of the function f with derivative df."
   ]
  },
  {
   "cell_type": "code",
   "execution_count": 3,
   "id": "c607f02b",
   "metadata": {},
   "outputs": [],
   "source": [
    "def newton(f, df, x0, epsilon=1e-6, max_iter=30):\n",
    "    \"\"\" This function performs a Newton iteration of the function f with\n",
    "    derivative df. \n",
    "    \n",
    "    If the root is found (i.e. abs(f(x_n)) < epsilon) before \n",
    "    max_iter is exceeded, it prints how many iterations it took and returns\n",
    "    the root x_n.\n",
    "    \n",
    "    Otherwise, it prints \"Iteration failed.\" and returns None.\n",
    "    \n",
    "    Parameters\n",
    "    -------------\n",
    "    f: function\n",
    "        A given function f.\n",
    "    df: function\n",
    "        The derivative of f.\n",
    "    x0: array-like\n",
    "        Initial guess for the root of f.\n",
    "    epsilon: float\n",
    "        Maximum error between the value of f at its exact root and the root found\n",
    "        by the function.\n",
    "    max_iter: int\n",
    "        Maximum number of iterations that can be taken to find the root.\n",
    "    \n",
    "    Returns\n",
    "    -------------\n",
    "    None OR x_n: array-like\n",
    "                The root of f found by the function.\n",
    "    \"\"\"\n",
    "    # Set an initial guess for the root\n",
    "    x_n = x0 \n",
    "    \n",
    "    # Use for loop to implement the recursive expression used for Newton iteration\n",
    "    for i in range(max_iter):\n",
    "        x_n1 = x_n - f(x_n)/df(x_n)\n",
    "        \n",
    "        # If the following condition is satisfied, the root has been found\n",
    "        if abs(f(x_n)) < epsilon: \n",
    "            print(\"Found root in\", i, \"iterations.\")\n",
    "            return x_n\n",
    "        \n",
    "        # If the root has not been found, set x_n to x_n1 and run the loop again\n",
    "        x_n = x_n1 \n",
    "\n",
    "    # Reached the maximum number of iterations without finding the root\n",
    "    print(\"Iteration failed.\") \n",
    "    return None   "
   ]
  },
  {
   "cell_type": "markdown",
   "id": "5860e9f4",
   "metadata": {},
   "source": [
    "# PART 3"
   ]
  },
  {
   "cell_type": "markdown",
   "id": "5e603885",
   "metadata": {},
   "source": [
    "Try out your function with the function you defined in part 1. Then try reducing epsilon to 1e-8. Does it still work? If so, how many more iterations does it take to converge?"
   ]
  },
  {
   "cell_type": "code",
   "execution_count": 6,
   "id": "525afa0c",
   "metadata": {},
   "outputs": [
    {
     "name": "stdout",
     "output_type": "stream",
     "text": [
      "Iteration failed.\n",
      "result_1a: None \n",
      "\n",
      "Found root in 9 iterations.\n",
      "result_1b: 1.465571232470246 \n",
      "\n",
      "Found root in 7 iterations.\n",
      "result_1c: 1.4655712402015129 \n",
      "\n",
      "Found root in 3 iterations.\n",
      "result_1d: 1.4655712318780663 \n",
      "\n",
      "Iteration failed.\n",
      "result_2a: None \n",
      "\n",
      "Found root in 9 iterations.\n",
      "result_2b: 1.465571232470246 \n",
      "\n",
      "Found root in 8 iterations.\n",
      "result_2c: 1.4655712318767682 \n",
      "\n",
      "Found root in 3 iterations.\n",
      "result_2d: 1.4655712318780663 \n",
      "\n"
     ]
    }
   ],
   "source": [
    "# Leave epsilon and max_iter as the default values set in part 2\n",
    "result_1a = newton(f, df, 100000000000000000) # x0 = 100000000000000000\n",
    "print(\"result_1a:\", result_1a, \"\\n\")\n",
    "\n",
    "result_1b = newton(f, df, 10) # x0 = 10\n",
    "print(\"result_1b:\", result_1b, \"\\n\")\n",
    "\n",
    "result_1c = newton(f, df, 5) # x0 = 5\n",
    "print(\"result_1c:\", result_1c, \"\\n\")\n",
    "\n",
    "result_1d = newton(f, df, 1.5) # x0 = 1.5\n",
    "print(\"result_1d:\", result_1d, \"\\n\")\n",
    "\n",
    "\n",
    "# Change epsilon to be 1e-8\n",
    "result_2a = newton(f, df, 100000000000000000, epsilon=1e-8) # x0 = 100000000000000000\n",
    "print(\"result_2a:\", result_2a, \"\\n\")\n",
    "\n",
    "result_2b = newton(f, df, 10, epsilon=1e-8) #x0 = 10\n",
    "print(\"result_2b:\", result_2b, \"\\n\")\n",
    "\n",
    "result_2c = newton(f, df, 5, epsilon=1e-8) # x0 = 5\n",
    "print(\"result_2c:\", result_2c, \"\\n\")\n",
    "\n",
    "result_2d = newton(f, df, 1.5) # x0 = 1.5\n",
    "print(\"result_2d:\", result_2d, \"\\n\")"
   ]
  },
  {
   "cell_type": "markdown",
   "id": "fa3af958",
   "metadata": {},
   "source": [
    "*Reducing epsilon to 1e-8 does still work, and it appears to take either the same amount or one more iteration to converge, depending on the given value of x_0.*"
   ]
  }
 ],
 "metadata": {
  "kernelspec": {
   "display_name": "Python 3 (ipykernel)",
   "language": "python",
   "name": "python3"
  },
  "language_info": {
   "codemirror_mode": {
    "name": "ipython",
    "version": 3
   },
   "file_extension": ".py",
   "mimetype": "text/x-python",
   "name": "python",
   "nbconvert_exporter": "python",
   "pygments_lexer": "ipython3",
   "version": "3.10.2"
  }
 },
 "nbformat": 4,
 "nbformat_minor": 5
}
